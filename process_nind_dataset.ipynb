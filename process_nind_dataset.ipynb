{
 "cells": [
  {
   "cell_type": "code",
   "execution_count": 32,
   "outputs": [],
   "source": [
    "import os\n",
    "import shutil"
   ],
   "metadata": {
    "collapsed": false,
    "pycharm": {
     "name": "#%%\n"
    }
   }
  },
  {
   "cell_type": "code",
   "execution_count": 33,
   "metadata": {
    "collapsed": true,
    "pycharm": {
     "name": "#%%\n"
    }
   },
   "outputs": [],
   "source": [
    "new_path = \"./data/NIND/\"\n",
    "orig_path = \"../../datasets/NIND/\""
   ]
  },
  {
   "cell_type": "markdown",
   "source": [
    "# Select clean and noise pics and move it to data subfolder"
   ],
   "metadata": {
    "collapsed": false,
    "pycharm": {
     "name": "#%% md\n"
    }
   }
  },
  {
   "cell_type": "code",
   "execution_count": 34,
   "outputs": [],
   "source": [
    "from PIL import Image\n",
    "\n",
    "os.system('mkdir -p ' + new_path)\n",
    "for subdir in os.listdir(orig_path):\n",
    "    f = os.path.join(orig_path, subdir)\n",
    "    file_names = sorted(os.listdir(f))\n",
    "    common_prefix = os.path.commonprefix([file_names[0], file_names[-1]])\n",
    "    old_first_image_path = os.path.join(f, file_names[0])\n",
    "    new_first_image_path = os.path.join(new_path, common_prefix + \"_clean.jpg\")\n",
    "    old_last_image_path = os.path.join(f, file_names[-1])\n",
    "    new_last_image_path = os.path.join(new_path,  common_prefix + \"_noise.jpg\")\n",
    "\n",
    "    os.rename(old_first_image_path, new_first_image_path)\n",
    "    os.rename(old_last_image_path, new_last_image_path)\n",
    "\n",
    "    shutil.rmtree(f)\n",
    "\n",
    "\n",
    "    # clean_im = Image.open(new_first_image_path)\n",
    "    # clean_im = clean_im.convert('RGB')\n",
    "    # clean_im.save(os.path.join(new_path, common_prefix + \"_clean.jpg\"))\n",
    "    #\n",
    "    # noise_im = Image.open(new_last_image_path)\n",
    "    # noise_im = noise_im.convert('RGB')\n",
    "    # noise_im.save(os.path.join(new_path, common_prefix + \"_noise.jpg\"))\n"
   ],
   "metadata": {
    "collapsed": false,
    "pycharm": {
     "name": "#%%\n"
    }
   }
  },
  {
   "cell_type": "code",
   "execution_count": 35,
   "outputs": [],
   "source": [
    "for im_name in os.listdir(new_path):\n",
    "    image = Image.open(os.path.join(new_path, im_name))\n",
    "    # crop top left quare of 250 pixels\n",
    "    image = image.crop((0, 0, 250, 250))\n",
    "    image.save(os.path.join(new_path, im_name))"
   ],
   "metadata": {
    "collapsed": false,
    "pycharm": {
     "name": "#%%\n"
    }
   }
  },
  {
   "cell_type": "code",
   "execution_count": null,
   "outputs": [],
   "source": [],
   "metadata": {
    "collapsed": false,
    "pycharm": {
     "name": "#%%\n"
    }
   }
  }
 ],
 "metadata": {
  "kernelspec": {
   "display_name": "Python 3",
   "language": "python",
   "name": "python3"
  },
  "language_info": {
   "codemirror_mode": {
    "name": "ipython",
    "version": 2
   },
   "file_extension": ".py",
   "mimetype": "text/x-python",
   "name": "python",
   "nbconvert_exporter": "python",
   "pygments_lexer": "ipython2",
   "version": "2.7.6"
  }
 },
 "nbformat": 4,
 "nbformat_minor": 0
}